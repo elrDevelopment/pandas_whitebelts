{
 "cells": [
  {
   "cell_type": "markdown",
   "metadata": {},
   "source": [
    "# [Pandas in the DOJO](https://pandas.pydata.org/)\n"
   ]
  },
  {
   "cell_type": "markdown",
   "metadata": {},
   "source": [
    "### We need 5 things to get started with pandas"
   ]
  },
  {
   "cell_type": "markdown",
   "metadata": {},
   "source": [
    "1. Python (with or without a virtual environment - better)\n",
    "2. pip install Pandas\n",
    "3. pip install jupyter\n",
    "4. pip install xlrd - excel reader library\n",
    "5. pip install pyodbc - odbc read write library"
   ]
  },
  {
   "cell_type": "markdown",
   "metadata": {},
   "source": [
    "#### [In windows the best solultion is to download and run anaconda.](https://www.anaconda.com/)"
   ]
  },
  {
   "cell_type": "markdown",
   "metadata": {},
   "source": [
    "#### [jupyter notebook is amazing](www.jupyter.org). It is like a REPL (read–eval–print loop), but you can visually see what you are doing or have done in the past, correct and redo steps without using the up and down button."
   ]
  },
  {
   "cell_type": "code",
   "execution_count": null,
   "metadata": {},
   "outputs": [],
   "source": []
  },
  {
   "cell_type": "markdown",
   "metadata": {},
   "source": [
    "## Structure is the best foundation for Panda Foo"
   ]
  },
  {
   "cell_type": "markdown",
   "metadata": {},
   "source": [
    "### Pandas Series"
   ]
  },
  {
   "cell_type": "markdown",
   "metadata": {},
   "source": [
    "1. built on C\n",
    "2. built for dataprocessing\n",
    "3. buit for iterative data processes (not just set based...Like sql)\n",
    "4. built to be easy to get started\n",
    "5. Built to handle large files"
   ]
  },
  {
   "cell_type": "code",
   "execution_count": 4,
   "metadata": {},
   "outputs": [],
   "source": [
    "import pandas as pd"
   ]
  },
  {
   "cell_type": "code",
   "execution_count": 7,
   "metadata": {},
   "outputs": [],
   "source": [
    "testSeries = pd.Series([\"po\", \"tigris\", \"mantis\", \"monkey\", \"crane\", \"viper\"], index=[\"name1\", \"name2\", \"name3\", \"name4\", \"name5\", \"name6\"])"
   ]
  },
  {
   "cell_type": "code",
   "execution_count": 8,
   "metadata": {
    "scrolled": true
   },
   "outputs": [
    {
     "data": {
      "text/plain": [
       "'viper'"
      ]
     },
     "execution_count": 8,
     "metadata": {},
     "output_type": "execute_result"
    }
   ],
   "source": [
    "testSeries.name6"
   ]
  },
  {
   "cell_type": "code",
   "execution_count": 9,
   "metadata": {},
   "outputs": [
    {
     "name": "stdout",
     "output_type": "stream",
     "text": [
      "po\n",
      "tigris\n",
      "mantis\n",
      "monkey\n",
      "crane\n",
      "viper\n"
     ]
    }
   ],
   "source": [
    "for item in testSeries:\n",
    "    print(item)"
   ]
  },
  {
   "cell_type": "code",
   "execution_count": 22,
   "metadata": {
    "scrolled": true
   },
   "outputs": [
    {
     "data": {
      "text/plain": [
       "name1     True\n",
       "name2    False\n",
       "name3    False\n",
       "name4    False\n",
       "name5    False\n",
       "name6     True\n",
       "dtype: bool"
      ]
     },
     "execution_count": 22,
     "metadata": {},
     "output_type": "execute_result"
    }
   ],
   "source": [
    "testSeries.str.contains(\"p\")"
   ]
  },
  {
   "cell_type": "code",
   "execution_count": 10,
   "metadata": {},
   "outputs": [
    {
     "data": {
      "text/plain": [
       "name1    False\n",
       "name2     True\n",
       "name3     True\n",
       "name4     True\n",
       "name5     True\n",
       "name6    False\n",
       "dtype: bool"
      ]
     },
     "execution_count": 10,
     "metadata": {},
     "output_type": "execute_result"
    }
   ],
   "source": [
    "~testSeries.str.contains(\"p\")"
   ]
  },
  {
   "cell_type": "code",
   "execution_count": 27,
   "metadata": {
    "scrolled": true
   },
   "outputs": [
    {
     "data": {
      "text/plain": [
       "name2    tigris\n",
       "name3    mantis\n",
       "name4    monkey\n",
       "name5     crane\n",
       "dtype: object"
      ]
     },
     "execution_count": 27,
     "metadata": {},
     "output_type": "execute_result"
    }
   ],
   "source": [
    "newTs"
   ]
  },
  {
   "cell_type": "markdown",
   "metadata": {},
   "source": [
    "## Dataframes"
   ]
  },
  {
   "cell_type": "markdown",
   "metadata": {},
   "source": [
    "### multiple series in an arrary, programatic representation of a column row dataset."
   ]
  },
  {
   "cell_type": "markdown",
   "metadata": {},
   "source": [
    "##### Includes an index if you don't provide one,    "
   ]
  },
  {
   "cell_type": "code",
   "execution_count": 30,
   "metadata": {},
   "outputs": [],
   "source": [
    "d = {'col1' : pd.Series(['one', 'two', 'three'],index=['a', 'b', 'c']),\n",
    "      'col2' : pd.Series(['abc', 'def', 'ghi', 'jkl'],index=['a', 'b', 'c', 'd'])}"
   ]
  },
  {
   "cell_type": "code",
   "execution_count": 33,
   "metadata": {},
   "outputs": [],
   "source": [
    "#taking a dictionary and adding some steriods\n",
    "df = pd.DataFrame(d)"
   ]
  },
  {
   "cell_type": "code",
   "execution_count": 39,
   "metadata": {},
   "outputs": [
    {
     "data": {
      "text/html": [
       "<div>\n",
       "<style scoped>\n",
       "    .dataframe tbody tr th:only-of-type {\n",
       "        vertical-align: middle;\n",
       "    }\n",
       "\n",
       "    .dataframe tbody tr th {\n",
       "        vertical-align: top;\n",
       "    }\n",
       "\n",
       "    .dataframe thead th {\n",
       "        text-align: right;\n",
       "    }\n",
       "</style>\n",
       "<table border=\"1\" class=\"dataframe\">\n",
       "  <thead>\n",
       "    <tr style=\"text-align: right;\">\n",
       "      <th></th>\n",
       "      <th>col1</th>\n",
       "      <th>col2</th>\n",
       "    </tr>\n",
       "  </thead>\n",
       "  <tbody>\n",
       "    <tr>\n",
       "      <th>a</th>\n",
       "      <td>one</td>\n",
       "      <td>abc</td>\n",
       "    </tr>\n",
       "    <tr>\n",
       "      <th>b</th>\n",
       "      <td>two</td>\n",
       "      <td>def</td>\n",
       "    </tr>\n",
       "    <tr>\n",
       "      <th>c</th>\n",
       "      <td>three</td>\n",
       "      <td>ghi</td>\n",
       "    </tr>\n",
       "    <tr>\n",
       "      <th>d</th>\n",
       "      <td>NaN</td>\n",
       "      <td>jkl</td>\n",
       "    </tr>\n",
       "  </tbody>\n",
       "</table>\n",
       "</div>"
      ],
      "text/plain": [
       "    col1 col2\n",
       "a    one  abc\n",
       "b    two  def\n",
       "c  three  ghi\n",
       "d    NaN  jkl"
      ]
     },
     "execution_count": 39,
     "metadata": {},
     "output_type": "execute_result"
    }
   ],
   "source": [
    "df.head()"
   ]
  },
  {
   "cell_type": "code",
   "execution_count": 40,
   "metadata": {},
   "outputs": [],
   "source": [
    "series = df.col1"
   ]
  },
  {
   "cell_type": "code",
   "execution_count": 2,
   "metadata": {
    "scrolled": true
   },
   "outputs": [
    {
     "ename": "NameError",
     "evalue": "name 'series' is not defined",
     "output_type": "error",
     "traceback": [
      "\u001b[0;31m---------------------------------------------------------------------------\u001b[0m",
      "\u001b[0;31mNameError\u001b[0m                                 Traceback (most recent call last)",
      "\u001b[0;32m<ipython-input-2-2859777d6f2b>\u001b[0m in \u001b[0;36m<module>\u001b[0;34m\u001b[0m\n\u001b[0;32m----> 1\u001b[0;31m \u001b[0mseries\u001b[0m\u001b[0;34m\u001b[0m\u001b[0;34m\u001b[0m\u001b[0m\n\u001b[0m",
      "\u001b[0;31mNameError\u001b[0m: name 'series' is not defined"
     ]
    }
   ],
   "source": [
    "series"
   ]
  },
  {
   "cell_type": "markdown",
   "metadata": {},
   "source": [
    "## Loading Json"
   ]
  },
  {
   "cell_type": "code",
   "execution_count": 42,
   "metadata": {},
   "outputs": [],
   "source": [
    "json = '[{ \"id\": 1, \"first_name\": \"Efrem\", \"last_name\": \"Jory\", \"email\": \"ejory0@bloglines.com\", \"gender\": \"Male\", \"ip_address\": \"188.236.48.65\" }, { \"id\": 2, \"first_name\": \"Tania\", \"last_name\": \"Stockman\", \"email\": \"tstockman1@spotify.com\", \"gender\": \"Female\", \"ip_address\": \"246.143.185.178\" }, { \"id\": 3, \"first_name\": \"Kris\", \"last_name\": \"Storek\", \"email\": \"kstorek2@uol.com.br\", \"gender\": \"Female\", \"ip_address\": \"116.179.125.159\" }, { \"id\": 4, \"first_name\": \"Willy\", \"last_name\": \"Dadswell\", \"email\": \"wdadswell3@mapy.cz\", \"gender\": \"Female\", \"ip_address\": \"226.245.102.20\" }, { \"id\": 5, \"first_name\": \"Becca\", \"last_name\": \"Henrion\", \"email\": \"bhenrion4@wired.com\", \"gender\": \"Female\", \"ip_address\": \"63.116.151.183\" }]'"
   ]
  },
  {
   "cell_type": "code",
   "execution_count": 43,
   "metadata": {},
   "outputs": [],
   "source": [
    "newDf = pd.read_json(json)"
   ]
  },
  {
   "cell_type": "markdown",
   "metadata": {},
   "source": [
    "##### We read the data into a dataframe object. It is no longer treated as its source but as all the attributes of a dataframe object and can be treated as such."
   ]
  },
  {
   "cell_type": "code",
   "execution_count": 46,
   "metadata": {
    "scrolled": true
   },
   "outputs": [
    {
     "data": {
      "text/html": [
       "<div>\n",
       "<style scoped>\n",
       "    .dataframe tbody tr th:only-of-type {\n",
       "        vertical-align: middle;\n",
       "    }\n",
       "\n",
       "    .dataframe tbody tr th {\n",
       "        vertical-align: top;\n",
       "    }\n",
       "\n",
       "    .dataframe thead th {\n",
       "        text-align: right;\n",
       "    }\n",
       "</style>\n",
       "<table border=\"1\" class=\"dataframe\">\n",
       "  <thead>\n",
       "    <tr style=\"text-align: right;\">\n",
       "      <th></th>\n",
       "      <th>first_name</th>\n",
       "      <th>last_name</th>\n",
       "    </tr>\n",
       "  </thead>\n",
       "  <tbody>\n",
       "    <tr>\n",
       "      <th>0</th>\n",
       "      <td>Efrem</td>\n",
       "      <td>Jory</td>\n",
       "    </tr>\n",
       "    <tr>\n",
       "      <th>1</th>\n",
       "      <td>Tania</td>\n",
       "      <td>Stockman</td>\n",
       "    </tr>\n",
       "    <tr>\n",
       "      <th>2</th>\n",
       "      <td>Kris</td>\n",
       "      <td>Storek</td>\n",
       "    </tr>\n",
       "    <tr>\n",
       "      <th>3</th>\n",
       "      <td>Willy</td>\n",
       "      <td>Dadswell</td>\n",
       "    </tr>\n",
       "    <tr>\n",
       "      <th>4</th>\n",
       "      <td>Becca</td>\n",
       "      <td>Henrion</td>\n",
       "    </tr>\n",
       "  </tbody>\n",
       "</table>\n",
       "</div>"
      ],
      "text/plain": [
       "  first_name last_name\n",
       "0      Efrem      Jory\n",
       "1      Tania  Stockman\n",
       "2       Kris    Storek\n",
       "3      Willy  Dadswell\n",
       "4      Becca   Henrion"
      ]
     },
     "execution_count": 46,
     "metadata": {},
     "output_type": "execute_result"
    }
   ],
   "source": [
    "newDf[[\"first_name\", \"last_name\"]]"
   ]
  },
  {
   "cell_type": "markdown",
   "metadata": {},
   "source": [
    "#### because we have pulled in the json into a dataframe we use the iterataions functions to get at the data we need to alter"
   ]
  },
  {
   "cell_type": "code",
   "execution_count": 57,
   "metadata": {
    "scrolled": true
   },
   "outputs": [
    {
     "name": "stdout",
     "output_type": "stream",
     "text": [
      "ejory0@bloglines.com 188.236.48.65\n",
      "tstockman1@spotify.com 246.143.185.178\n",
      "kstorek2@uol.com.br 116.179.125.159\n",
      "wdadswell3@mapy.cz 226.245.102.20\n",
      "bhenrion4@wired.com 63.116.151.183\n"
     ]
    }
   ],
   "source": [
    "for n, row in newDf.iterrows():\n",
    "    print(row.email, row.ip_abddress)"
   ]
  },
  {
   "cell_type": "markdown",
   "metadata": {},
   "source": [
    "#### after we have pulled some json data in, what if wanted that in another form. Such as CSV. Pandas has all the objects we need to most levels of ETL (Extract, Transform and Load) procedures"
   ]
  },
  {
   "cell_type": "code",
   "execution_count": 59,
   "metadata": {},
   "outputs": [],
   "source": [
    "newDf.to_csv('test.csv')"
   ]
  },
  {
   "cell_type": "markdown",
   "metadata": {},
   "source": [
    "#### we can also read the json from a url."
   ]
  },
  {
   "cell_type": "code",
   "execution_count": 9,
   "metadata": {},
   "outputs": [],
   "source": [
    "jsonFromUrlDf = pd.read_json(\"https://jsonplaceholder.typicode.com/posts\")"
   ]
  },
  {
   "cell_type": "markdown",
   "metadata": {},
   "source": [
    "#### the head function show us a sample of the data that is in memory"
   ]
  },
  {
   "cell_type": "code",
   "execution_count": 10,
   "metadata": {},
   "outputs": [
    {
     "data": {
      "text/html": [
       "<div>\n",
       "<style scoped>\n",
       "    .dataframe tbody tr th:only-of-type {\n",
       "        vertical-align: middle;\n",
       "    }\n",
       "\n",
       "    .dataframe tbody tr th {\n",
       "        vertical-align: top;\n",
       "    }\n",
       "\n",
       "    .dataframe thead th {\n",
       "        text-align: right;\n",
       "    }\n",
       "</style>\n",
       "<table border=\"1\" class=\"dataframe\">\n",
       "  <thead>\n",
       "    <tr style=\"text-align: right;\">\n",
       "      <th></th>\n",
       "      <th>body</th>\n",
       "      <th>id</th>\n",
       "      <th>title</th>\n",
       "      <th>userId</th>\n",
       "    </tr>\n",
       "  </thead>\n",
       "  <tbody>\n",
       "    <tr>\n",
       "      <th>0</th>\n",
       "      <td>quia et suscipit\\nsuscipit recusandae consequu...</td>\n",
       "      <td>1</td>\n",
       "      <td>sunt aut facere repellat provident occaecati e...</td>\n",
       "      <td>1</td>\n",
       "    </tr>\n",
       "    <tr>\n",
       "      <th>1</th>\n",
       "      <td>est rerum tempore vitae\\nsequi sint nihil repr...</td>\n",
       "      <td>2</td>\n",
       "      <td>qui est esse</td>\n",
       "      <td>1</td>\n",
       "    </tr>\n",
       "    <tr>\n",
       "      <th>2</th>\n",
       "      <td>et iusto sed quo iure\\nvoluptatem occaecati om...</td>\n",
       "      <td>3</td>\n",
       "      <td>ea molestias quasi exercitationem repellat qui...</td>\n",
       "      <td>1</td>\n",
       "    </tr>\n",
       "    <tr>\n",
       "      <th>3</th>\n",
       "      <td>ullam et saepe reiciendis voluptatem adipisci\\...</td>\n",
       "      <td>4</td>\n",
       "      <td>eum et est occaecati</td>\n",
       "      <td>1</td>\n",
       "    </tr>\n",
       "    <tr>\n",
       "      <th>4</th>\n",
       "      <td>repudiandae veniam quaerat sunt sed\\nalias aut...</td>\n",
       "      <td>5</td>\n",
       "      <td>nesciunt quas odio</td>\n",
       "      <td>1</td>\n",
       "    </tr>\n",
       "    <tr>\n",
       "      <th>5</th>\n",
       "      <td>ut aspernatur corporis harum nihil quis provid...</td>\n",
       "      <td>6</td>\n",
       "      <td>dolorem eum magni eos aperiam quia</td>\n",
       "      <td>1</td>\n",
       "    </tr>\n",
       "    <tr>\n",
       "      <th>6</th>\n",
       "      <td>dolore placeat quibusdam ea quo vitae\\nmagni q...</td>\n",
       "      <td>7</td>\n",
       "      <td>magnam facilis autem</td>\n",
       "      <td>1</td>\n",
       "    </tr>\n",
       "    <tr>\n",
       "      <th>7</th>\n",
       "      <td>dignissimos aperiam dolorem qui eum\\nfacilis q...</td>\n",
       "      <td>8</td>\n",
       "      <td>dolorem dolore est ipsam</td>\n",
       "      <td>1</td>\n",
       "    </tr>\n",
       "    <tr>\n",
       "      <th>8</th>\n",
       "      <td>consectetur animi nesciunt iure dolore\\nenim q...</td>\n",
       "      <td>9</td>\n",
       "      <td>nesciunt iure omnis dolorem tempora et accusan...</td>\n",
       "      <td>1</td>\n",
       "    </tr>\n",
       "    <tr>\n",
       "      <th>9</th>\n",
       "      <td>quo et expedita modi cum officia vel magni\\ndo...</td>\n",
       "      <td>10</td>\n",
       "      <td>optio molestias id quia eum</td>\n",
       "      <td>1</td>\n",
       "    </tr>\n",
       "    <tr>\n",
       "      <th>10</th>\n",
       "      <td>delectus reiciendis molestiae occaecati non mi...</td>\n",
       "      <td>11</td>\n",
       "      <td>et ea vero quia laudantium autem</td>\n",
       "      <td>2</td>\n",
       "    </tr>\n",
       "    <tr>\n",
       "      <th>11</th>\n",
       "      <td>itaque id aut magnam\\npraesentium quia et ea o...</td>\n",
       "      <td>12</td>\n",
       "      <td>in quibusdam tempore odit est dolorem</td>\n",
       "      <td>2</td>\n",
       "    </tr>\n",
       "    <tr>\n",
       "      <th>12</th>\n",
       "      <td>aut dicta possimus sint mollitia voluptas comm...</td>\n",
       "      <td>13</td>\n",
       "      <td>dolorum ut in voluptas mollitia et saepe quo a...</td>\n",
       "      <td>2</td>\n",
       "    </tr>\n",
       "    <tr>\n",
       "      <th>13</th>\n",
       "      <td>fuga et accusamus dolorum perferendis illo vol...</td>\n",
       "      <td>14</td>\n",
       "      <td>voluptatem eligendi optio</td>\n",
       "      <td>2</td>\n",
       "    </tr>\n",
       "    <tr>\n",
       "      <th>14</th>\n",
       "      <td>reprehenderit quos placeat\\nvelit minima offic...</td>\n",
       "      <td>15</td>\n",
       "      <td>eveniet quod temporibus</td>\n",
       "      <td>2</td>\n",
       "    </tr>\n",
       "    <tr>\n",
       "      <th>15</th>\n",
       "      <td>suscipit nam nisi quo aperiam aut\\nasperiores ...</td>\n",
       "      <td>16</td>\n",
       "      <td>sint suscipit perspiciatis velit dolorum rerum...</td>\n",
       "      <td>2</td>\n",
       "    </tr>\n",
       "    <tr>\n",
       "      <th>16</th>\n",
       "      <td>eos voluptas et aut odit natus earum\\naspernat...</td>\n",
       "      <td>17</td>\n",
       "      <td>fugit voluptas sed molestias voluptatem provident</td>\n",
       "      <td>2</td>\n",
       "    </tr>\n",
       "    <tr>\n",
       "      <th>17</th>\n",
       "      <td>eveniet quo quis\\nlaborum totam consequatur no...</td>\n",
       "      <td>18</td>\n",
       "      <td>voluptate et itaque vero tempora molestiae</td>\n",
       "      <td>2</td>\n",
       "    </tr>\n",
       "    <tr>\n",
       "      <th>18</th>\n",
       "      <td>illum quis cupiditate provident sit magnam\\nea...</td>\n",
       "      <td>19</td>\n",
       "      <td>adipisci placeat illum aut reiciendis qui</td>\n",
       "      <td>2</td>\n",
       "    </tr>\n",
       "    <tr>\n",
       "      <th>19</th>\n",
       "      <td>qui consequuntur ducimus possimus quisquam ame...</td>\n",
       "      <td>20</td>\n",
       "      <td>doloribus ad provident suscipit at</td>\n",
       "      <td>2</td>\n",
       "    </tr>\n",
       "  </tbody>\n",
       "</table>\n",
       "</div>"
      ],
      "text/plain": [
       "                                                 body  id  \\\n",
       "0   quia et suscipit\\nsuscipit recusandae consequu...   1   \n",
       "1   est rerum tempore vitae\\nsequi sint nihil repr...   2   \n",
       "2   et iusto sed quo iure\\nvoluptatem occaecati om...   3   \n",
       "3   ullam et saepe reiciendis voluptatem adipisci\\...   4   \n",
       "4   repudiandae veniam quaerat sunt sed\\nalias aut...   5   \n",
       "5   ut aspernatur corporis harum nihil quis provid...   6   \n",
       "6   dolore placeat quibusdam ea quo vitae\\nmagni q...   7   \n",
       "7   dignissimos aperiam dolorem qui eum\\nfacilis q...   8   \n",
       "8   consectetur animi nesciunt iure dolore\\nenim q...   9   \n",
       "9   quo et expedita modi cum officia vel magni\\ndo...  10   \n",
       "10  delectus reiciendis molestiae occaecati non mi...  11   \n",
       "11  itaque id aut magnam\\npraesentium quia et ea o...  12   \n",
       "12  aut dicta possimus sint mollitia voluptas comm...  13   \n",
       "13  fuga et accusamus dolorum perferendis illo vol...  14   \n",
       "14  reprehenderit quos placeat\\nvelit minima offic...  15   \n",
       "15  suscipit nam nisi quo aperiam aut\\nasperiores ...  16   \n",
       "16  eos voluptas et aut odit natus earum\\naspernat...  17   \n",
       "17  eveniet quo quis\\nlaborum totam consequatur no...  18   \n",
       "18  illum quis cupiditate provident sit magnam\\nea...  19   \n",
       "19  qui consequuntur ducimus possimus quisquam ame...  20   \n",
       "\n",
       "                                                title  userId  \n",
       "0   sunt aut facere repellat provident occaecati e...       1  \n",
       "1                                        qui est esse       1  \n",
       "2   ea molestias quasi exercitationem repellat qui...       1  \n",
       "3                                eum et est occaecati       1  \n",
       "4                                  nesciunt quas odio       1  \n",
       "5                  dolorem eum magni eos aperiam quia       1  \n",
       "6                                magnam facilis autem       1  \n",
       "7                            dolorem dolore est ipsam       1  \n",
       "8   nesciunt iure omnis dolorem tempora et accusan...       1  \n",
       "9                         optio molestias id quia eum       1  \n",
       "10                   et ea vero quia laudantium autem       2  \n",
       "11              in quibusdam tempore odit est dolorem       2  \n",
       "12  dolorum ut in voluptas mollitia et saepe quo a...       2  \n",
       "13                          voluptatem eligendi optio       2  \n",
       "14                            eveniet quod temporibus       2  \n",
       "15  sint suscipit perspiciatis velit dolorum rerum...       2  \n",
       "16  fugit voluptas sed molestias voluptatem provident       2  \n",
       "17         voluptate et itaque vero tempora molestiae       2  \n",
       "18          adipisci placeat illum aut reiciendis qui       2  \n",
       "19                 doloribus ad provident suscipit at       2  "
      ]
     },
     "execution_count": 10,
     "metadata": {},
     "output_type": "execute_result"
    }
   ],
   "source": [
    "jsonFromUrlDf.head(20)"
   ]
  },
  {
   "cell_type": "markdown",
   "metadata": {},
   "source": [
    "#### we can also inspect the datatypes that were pulled in and see if we need to adjust those and change them to meet our data model."
   ]
  },
  {
   "cell_type": "code",
   "execution_count": 13,
   "metadata": {},
   "outputs": [
    {
     "name": "stdout",
     "output_type": "stream",
     "text": [
      "<class 'pandas.core.frame.DataFrame'>\n",
      "RangeIndex: 100 entries, 0 to 99\n",
      "Data columns (total 4 columns):\n",
      "body      100 non-null object\n",
      "id        100 non-null int64\n",
      "title     100 non-null object\n",
      "userId    100 non-null int64\n",
      "dtypes: int64(2), object(2)\n",
      "memory usage: 3.2+ KB\n"
     ]
    }
   ],
   "source": [
    "jsonFromUrlDf.info()"
   ]
  },
  {
   "cell_type": "markdown",
   "metadata": {},
   "source": [
    "#### looking at the above info print out the data type of body is object, id in integer, etc...."
   ]
  },
  {
   "cell_type": "code",
   "execution_count": 14,
   "metadata": {},
   "outputs": [],
   "source": [
    "csvDf = pd.read_csv(\"MOCK_DATA.csv\")\n"
   ]
  },
  {
   "cell_type": "code",
   "execution_count": 15,
   "metadata": {},
   "outputs": [
    {
     "name": "stdout",
     "output_type": "stream",
     "text": [
      "<class 'pandas.core.frame.DataFrame'>\n",
      "RangeIndex: 1000 entries, 0 to 999\n",
      "Data columns (total 6 columns):\n",
      "id            1000 non-null int64\n",
      "first_name    1000 non-null object\n",
      "last_name     1000 non-null object\n",
      "email         1000 non-null object\n",
      "gender        1000 non-null object\n",
      "ip_address    1000 non-null object\n",
      "dtypes: int64(1), object(5)\n",
      "memory usage: 47.0+ KB\n"
     ]
    }
   ],
   "source": [
    "csvDf.info()"
   ]
  },
  {
   "cell_type": "code",
   "execution_count": 17,
   "metadata": {
    "scrolled": true
   },
   "outputs": [],
   "source": [
    "excelDf = pd.read_excel(\"MOCK_DATA.xlsx\")"
   ]
  },
  {
   "cell_type": "code",
   "execution_count": 18,
   "metadata": {
    "scrolled": true
   },
   "outputs": [
    {
     "name": "stdout",
     "output_type": "stream",
     "text": [
      "<class 'pandas.core.frame.DataFrame'>\n",
      "RangeIndex: 1000 entries, 0 to 999\n",
      "Data columns (total 7 columns):\n",
      "id             1000 non-null int64\n",
      "first_name     1000 non-null object\n",
      "last_name      1000 non-null object\n",
      "email          1000 non-null object\n",
      "gender         1000 non-null object\n",
      "ip_address     1000 non-null object\n",
      "animal_name    1000 non-null object\n",
      "dtypes: int64(1), object(6)\n",
      "memory usage: 54.8+ KB\n"
     ]
    }
   ],
   "source": [
    "excelDf.info()"
   ]
  },
  {
   "cell_type": "code",
   "execution_count": 20,
   "metadata": {
    "scrolled": true
   },
   "outputs": [
    {
     "data": {
      "text/html": [
       "<div>\n",
       "<style scoped>\n",
       "    .dataframe tbody tr th:only-of-type {\n",
       "        vertical-align: middle;\n",
       "    }\n",
       "\n",
       "    .dataframe tbody tr th {\n",
       "        vertical-align: top;\n",
       "    }\n",
       "\n",
       "    .dataframe thead th {\n",
       "        text-align: right;\n",
       "    }\n",
       "</style>\n",
       "<table border=\"1\" class=\"dataframe\">\n",
       "  <thead>\n",
       "    <tr style=\"text-align: right;\">\n",
       "      <th></th>\n",
       "      <th>id</th>\n",
       "      <th>first_name</th>\n",
       "      <th>last_name</th>\n",
       "      <th>email</th>\n",
       "      <th>gender</th>\n",
       "      <th>ip_address</th>\n",
       "      <th>animal_name</th>\n",
       "    </tr>\n",
       "  </thead>\n",
       "  <tbody>\n",
       "    <tr>\n",
       "      <th>0</th>\n",
       "      <td>1</td>\n",
       "      <td>Renee</td>\n",
       "      <td>Keemar</td>\n",
       "      <td>rkeemar0@homestead.com</td>\n",
       "      <td>Female</td>\n",
       "      <td>204.64.230.229</td>\n",
       "      <td>Water monitor</td>\n",
       "    </tr>\n",
       "    <tr>\n",
       "      <th>1</th>\n",
       "      <td>2</td>\n",
       "      <td>Marcel</td>\n",
       "      <td>Grimsell</td>\n",
       "      <td>mgrimsell1@ucoz.com</td>\n",
       "      <td>Male</td>\n",
       "      <td>78.65.112.204</td>\n",
       "      <td>Kafue flats lechwe</td>\n",
       "    </tr>\n",
       "    <tr>\n",
       "      <th>2</th>\n",
       "      <td>3</td>\n",
       "      <td>Abelard</td>\n",
       "      <td>Form</td>\n",
       "      <td>aform2@soundcloud.com</td>\n",
       "      <td>Male</td>\n",
       "      <td>144.30.193.192</td>\n",
       "      <td>Rock dove</td>\n",
       "    </tr>\n",
       "    <tr>\n",
       "      <th>3</th>\n",
       "      <td>4</td>\n",
       "      <td>Osmond</td>\n",
       "      <td>Luca</td>\n",
       "      <td>oluca3@timesonline.co.uk</td>\n",
       "      <td>Male</td>\n",
       "      <td>69.248.71.82</td>\n",
       "      <td>Woodchuck</td>\n",
       "    </tr>\n",
       "    <tr>\n",
       "      <th>4</th>\n",
       "      <td>5</td>\n",
       "      <td>Oren</td>\n",
       "      <td>Joss</td>\n",
       "      <td>ojoss4@ask.com</td>\n",
       "      <td>Male</td>\n",
       "      <td>122.67.43.241</td>\n",
       "      <td>Tasmanian devil</td>\n",
       "    </tr>\n",
       "  </tbody>\n",
       "</table>\n",
       "</div>"
      ],
      "text/plain": [
       "   id first_name last_name                     email  gender      ip_address  \\\n",
       "0   1      Renee    Keemar    rkeemar0@homestead.com  Female  204.64.230.229   \n",
       "1   2     Marcel  Grimsell       mgrimsell1@ucoz.com    Male   78.65.112.204   \n",
       "2   3    Abelard      Form     aform2@soundcloud.com    Male  144.30.193.192   \n",
       "3   4     Osmond      Luca  oluca3@timesonline.co.uk    Male    69.248.71.82   \n",
       "4   5       Oren      Joss            ojoss4@ask.com    Male   122.67.43.241   \n",
       "\n",
       "          animal_name  \n",
       "0       Water monitor  \n",
       "1  Kafue flats lechwe  \n",
       "2           Rock dove  \n",
       "3           Woodchuck  \n",
       "4     Tasmanian devil  "
      ]
     },
     "execution_count": 20,
     "metadata": {},
     "output_type": "execute_result"
    }
   ],
   "source": [
    "excelDf.head()"
   ]
  },
  {
   "cell_type": "markdown",
   "metadata": {},
   "source": [
    "#### what if we wanted to find all the instances of a certain animal names"
   ]
  },
  {
   "cell_type": "code",
   "execution_count": 21,
   "metadata": {},
   "outputs": [],
   "source": [
    "list = (\"jungle\", \"cat\", \"owl\")"
   ]
  },
  {
   "cell_type": "code",
   "execution_count": 22,
   "metadata": {},
   "outputs": [
    {
     "data": {
      "text/plain": [
       "'jungle|cat|owl'"
      ]
     },
     "execution_count": 22,
     "metadata": {},
     "output_type": "execute_result"
    }
   ],
   "source": [
    "join = \"|\".join(list)\n",
    "join"
   ]
  },
  {
   "cell_type": "code",
   "execution_count": 23,
   "metadata": {},
   "outputs": [],
   "source": [
    "newexceldf = excelDf.where(lambda x:x.animal_name.str.endswith(list)).dropna()"
   ]
  },
  {
   "cell_type": "code",
   "execution_count": 24,
   "metadata": {
    "scrolled": false
   },
   "outputs": [
    {
     "data": {
      "text/html": [
       "<div>\n",
       "<style scoped>\n",
       "    .dataframe tbody tr th:only-of-type {\n",
       "        vertical-align: middle;\n",
       "    }\n",
       "\n",
       "    .dataframe tbody tr th {\n",
       "        vertical-align: top;\n",
       "    }\n",
       "\n",
       "    .dataframe thead th {\n",
       "        text-align: right;\n",
       "    }\n",
       "</style>\n",
       "<table border=\"1\" class=\"dataframe\">\n",
       "  <thead>\n",
       "    <tr style=\"text-align: right;\">\n",
       "      <th></th>\n",
       "      <th>id</th>\n",
       "      <th>first_name</th>\n",
       "      <th>last_name</th>\n",
       "      <th>email</th>\n",
       "      <th>gender</th>\n",
       "      <th>ip_address</th>\n",
       "      <th>animal_name</th>\n",
       "    </tr>\n",
       "  </thead>\n",
       "  <tbody>\n",
       "    <tr>\n",
       "      <th>88</th>\n",
       "      <td>89.0</td>\n",
       "      <td>Garvy</td>\n",
       "      <td>Champ</td>\n",
       "      <td>gchamp2g@patch.com</td>\n",
       "      <td>Male</td>\n",
       "      <td>25.152.201.132</td>\n",
       "      <td>White-browed owl</td>\n",
       "    </tr>\n",
       "    <tr>\n",
       "      <th>91</th>\n",
       "      <td>92.0</td>\n",
       "      <td>Joceline</td>\n",
       "      <td>Bartolomeazzi</td>\n",
       "      <td>jbartolomeazzi2j@webmd.com</td>\n",
       "      <td>Female</td>\n",
       "      <td>151.223.215.78</td>\n",
       "      <td>Jungle cat</td>\n",
       "    </tr>\n",
       "    <tr>\n",
       "      <th>209</th>\n",
       "      <td>210.0</td>\n",
       "      <td>Carce</td>\n",
       "      <td>Tregidga</td>\n",
       "      <td>ctregidga5t@google.fr</td>\n",
       "      <td>Male</td>\n",
       "      <td>216.171.211.123</td>\n",
       "      <td>Kangaroo, jungle</td>\n",
       "    </tr>\n",
       "    <tr>\n",
       "      <th>244</th>\n",
       "      <td>245.0</td>\n",
       "      <td>Alameda</td>\n",
       "      <td>Potticary</td>\n",
       "      <td>apotticary6s@ifeng.com</td>\n",
       "      <td>Female</td>\n",
       "      <td>47.21.149.250</td>\n",
       "      <td>Great horned owl</td>\n",
       "    </tr>\n",
       "    <tr>\n",
       "      <th>252</th>\n",
       "      <td>253.0</td>\n",
       "      <td>Currey</td>\n",
       "      <td>Tubridy</td>\n",
       "      <td>ctubridy70@amazon.co.uk</td>\n",
       "      <td>Male</td>\n",
       "      <td>212.251.83.189</td>\n",
       "      <td>Madagascar hawk owl</td>\n",
       "    </tr>\n",
       "    <tr>\n",
       "      <th>415</th>\n",
       "      <td>416.0</td>\n",
       "      <td>Hugo</td>\n",
       "      <td>McKinless</td>\n",
       "      <td>hmckinlessbj@discuz.net</td>\n",
       "      <td>Male</td>\n",
       "      <td>100.88.140.202</td>\n",
       "      <td>Toddy cat</td>\n",
       "    </tr>\n",
       "    <tr>\n",
       "      <th>429</th>\n",
       "      <td>430.0</td>\n",
       "      <td>Paula</td>\n",
       "      <td>Southcomb</td>\n",
       "      <td>psouthcombbx@narod.ru</td>\n",
       "      <td>Female</td>\n",
       "      <td>141.190.171.124</td>\n",
       "      <td>Tiger cat</td>\n",
       "    </tr>\n",
       "    <tr>\n",
       "      <th>487</th>\n",
       "      <td>488.0</td>\n",
       "      <td>Schuyler</td>\n",
       "      <td>Groom</td>\n",
       "      <td>sgroomdj@hexun.com</td>\n",
       "      <td>Male</td>\n",
       "      <td>128.174.105.104</td>\n",
       "      <td>European wild cat</td>\n",
       "    </tr>\n",
       "    <tr>\n",
       "      <th>553</th>\n",
       "      <td>554.0</td>\n",
       "      <td>Reuben</td>\n",
       "      <td>Clogg</td>\n",
       "      <td>rcloggfd@pagesperso-orange.fr</td>\n",
       "      <td>Male</td>\n",
       "      <td>188.252.49.187</td>\n",
       "      <td>Kangaroo, jungle</td>\n",
       "    </tr>\n",
       "    <tr>\n",
       "      <th>587</th>\n",
       "      <td>588.0</td>\n",
       "      <td>Doroteya</td>\n",
       "      <td>Poli</td>\n",
       "      <td>dpoligb@mlb.com</td>\n",
       "      <td>Female</td>\n",
       "      <td>118.85.131.240</td>\n",
       "      <td>White-browed owl</td>\n",
       "    </tr>\n",
       "    <tr>\n",
       "      <th>657</th>\n",
       "      <td>658.0</td>\n",
       "      <td>Mattie</td>\n",
       "      <td>Adam</td>\n",
       "      <td>madami9@japanpost.jp</td>\n",
       "      <td>Male</td>\n",
       "      <td>96.201.183.40</td>\n",
       "      <td>Burrowing owl</td>\n",
       "    </tr>\n",
       "    <tr>\n",
       "      <th>666</th>\n",
       "      <td>667.0</td>\n",
       "      <td>Rufe</td>\n",
       "      <td>Shortt</td>\n",
       "      <td>rshorttii@umn.edu</td>\n",
       "      <td>Male</td>\n",
       "      <td>1.240.63.233</td>\n",
       "      <td>Bobcat</td>\n",
       "    </tr>\n",
       "    <tr>\n",
       "      <th>751</th>\n",
       "      <td>752.0</td>\n",
       "      <td>Brandtr</td>\n",
       "      <td>Cardenas</td>\n",
       "      <td>bcardenaskv@nydailynews.com</td>\n",
       "      <td>Male</td>\n",
       "      <td>109.3.168.77</td>\n",
       "      <td>African polecat</td>\n",
       "    </tr>\n",
       "    <tr>\n",
       "      <th>758</th>\n",
       "      <td>759.0</td>\n",
       "      <td>Carlin</td>\n",
       "      <td>Monks</td>\n",
       "      <td>cmonksl2@mapquest.com</td>\n",
       "      <td>Male</td>\n",
       "      <td>175.170.5.128</td>\n",
       "      <td>Helmeted guinea fowl</td>\n",
       "    </tr>\n",
       "    <tr>\n",
       "      <th>836</th>\n",
       "      <td>837.0</td>\n",
       "      <td>Guntar</td>\n",
       "      <td>McComish</td>\n",
       "      <td>gmccomishn8@cam.ac.uk</td>\n",
       "      <td>Male</td>\n",
       "      <td>15.33.1.243</td>\n",
       "      <td>African wild cat</td>\n",
       "    </tr>\n",
       "    <tr>\n",
       "      <th>871</th>\n",
       "      <td>872.0</td>\n",
       "      <td>Guglielmo</td>\n",
       "      <td>Shacklady</td>\n",
       "      <td>gshackladyo7@fastcompany.com</td>\n",
       "      <td>Male</td>\n",
       "      <td>252.206.12.224</td>\n",
       "      <td>Miner's cat</td>\n",
       "    </tr>\n",
       "    <tr>\n",
       "      <th>927</th>\n",
       "      <td>928.0</td>\n",
       "      <td>Gustave</td>\n",
       "      <td>Peachment</td>\n",
       "      <td>gpeachmentpr@tinyurl.com</td>\n",
       "      <td>Male</td>\n",
       "      <td>116.178.78.110</td>\n",
       "      <td>Jungle cat</td>\n",
       "    </tr>\n",
       "    <tr>\n",
       "      <th>932</th>\n",
       "      <td>933.0</td>\n",
       "      <td>Marsiella</td>\n",
       "      <td>Backs</td>\n",
       "      <td>mbackspw@dion.ne.jp</td>\n",
       "      <td>Female</td>\n",
       "      <td>100.178.201.234</td>\n",
       "      <td>Kaffir cat</td>\n",
       "    </tr>\n",
       "  </tbody>\n",
       "</table>\n",
       "</div>"
      ],
      "text/plain": [
       "        id first_name      last_name                          email  gender  \\\n",
       "88    89.0      Garvy          Champ             gchamp2g@patch.com    Male   \n",
       "91    92.0   Joceline  Bartolomeazzi     jbartolomeazzi2j@webmd.com  Female   \n",
       "209  210.0      Carce       Tregidga          ctregidga5t@google.fr    Male   \n",
       "244  245.0    Alameda      Potticary         apotticary6s@ifeng.com  Female   \n",
       "252  253.0     Currey        Tubridy        ctubridy70@amazon.co.uk    Male   \n",
       "415  416.0       Hugo      McKinless        hmckinlessbj@discuz.net    Male   \n",
       "429  430.0      Paula      Southcomb          psouthcombbx@narod.ru  Female   \n",
       "487  488.0   Schuyler          Groom             sgroomdj@hexun.com    Male   \n",
       "553  554.0     Reuben          Clogg  rcloggfd@pagesperso-orange.fr    Male   \n",
       "587  588.0   Doroteya           Poli                dpoligb@mlb.com  Female   \n",
       "657  658.0     Mattie           Adam           madami9@japanpost.jp    Male   \n",
       "666  667.0       Rufe         Shortt              rshorttii@umn.edu    Male   \n",
       "751  752.0    Brandtr       Cardenas    bcardenaskv@nydailynews.com    Male   \n",
       "758  759.0     Carlin          Monks          cmonksl2@mapquest.com    Male   \n",
       "836  837.0     Guntar       McComish          gmccomishn8@cam.ac.uk    Male   \n",
       "871  872.0  Guglielmo      Shacklady   gshackladyo7@fastcompany.com    Male   \n",
       "927  928.0    Gustave      Peachment       gpeachmentpr@tinyurl.com    Male   \n",
       "932  933.0  Marsiella          Backs            mbackspw@dion.ne.jp  Female   \n",
       "\n",
       "          ip_address           animal_name  \n",
       "88    25.152.201.132      White-browed owl  \n",
       "91    151.223.215.78            Jungle cat  \n",
       "209  216.171.211.123      Kangaroo, jungle  \n",
       "244    47.21.149.250      Great horned owl  \n",
       "252   212.251.83.189   Madagascar hawk owl  \n",
       "415   100.88.140.202             Toddy cat  \n",
       "429  141.190.171.124             Tiger cat  \n",
       "487  128.174.105.104     European wild cat  \n",
       "553   188.252.49.187      Kangaroo, jungle  \n",
       "587   118.85.131.240      White-browed owl  \n",
       "657    96.201.183.40         Burrowing owl  \n",
       "666     1.240.63.233                Bobcat  \n",
       "751     109.3.168.77       African polecat  \n",
       "758    175.170.5.128  Helmeted guinea fowl  \n",
       "836      15.33.1.243      African wild cat  \n",
       "871   252.206.12.224           Miner's cat  \n",
       "927   116.178.78.110            Jungle cat  \n",
       "932  100.178.201.234            Kaffir cat  "
      ]
     },
     "execution_count": 24,
     "metadata": {},
     "output_type": "execute_result"
    }
   ],
   "source": [
    "newexceldf.head(20)"
   ]
  },
  {
   "cell_type": "markdown",
   "metadata": {},
   "source": [
    "#### in a dataframe you can use [\"column name\"] or .columnName notation. Either works but I have found that in some instances it is better to use the brackets for some reason. I still haven't figured that one out."
   ]
  },
  {
   "cell_type": "markdown",
   "metadata": {},
   "source": [
    "#### find and replace made easy"
   ]
  },
  {
   "cell_type": "code",
   "execution_count": 25,
   "metadata": {},
   "outputs": [],
   "source": [
    "newexceldf.loc[newexceldf.animal_name == \"Helmeted guinea fowl\", 'animal_name'] = '#1 Kungfu Panda Dragon Warrior'\n"
   ]
  },
  {
   "cell_type": "code",
   "execution_count": 26,
   "metadata": {},
   "outputs": [],
   "source": [
    "newexceldf.to_csv('final.csv')"
   ]
  },
  {
   "cell_type": "markdown",
   "metadata": {},
   "source": [
    "#### any good data platform should have the ability to sort. Pandas can sort dataframes and series, but I will demonstrate with the dataframe object and send it straight out to a csv."
   ]
  },
  {
   "cell_type": "code",
   "execution_count": 102,
   "metadata": {},
   "outputs": [],
   "source": [
    "newexceldf.sort_values(by=[\"animal_name\"]).to_csv('sortedfinal.csv')"
   ]
  },
  {
   "cell_type": "markdown",
   "metadata": {},
   "source": [
    "#### all functions in pandas are set up like maps or filters  in most languages you can string them together."
   ]
  },
  {
   "cell_type": "code",
   "execution_count": 28,
   "metadata": {},
   "outputs": [],
   "source": [
    "##DATA BASE ACCESS"
   ]
  },
  {
   "cell_type": "code",
   "execution_count": 1,
   "metadata": {},
   "outputs": [],
   "source": [
    "import sqlite3"
   ]
  },
  {
   "cell_type": "code",
   "execution_count": 2,
   "metadata": {},
   "outputs": [],
   "source": [
    "conn = sqlite3.connect(\"flights.db\")\n"
   ]
  },
  {
   "cell_type": "code",
   "execution_count": 5,
   "metadata": {},
   "outputs": [],
   "source": [
    "df = pd.read_sql_query(\"select * from airlines limit 5;\", conn)"
   ]
  },
  {
   "cell_type": "code",
   "execution_count": 29,
   "metadata": {},
   "outputs": [
    {
     "data": {
      "text/html": [
       "<div>\n",
       "<style scoped>\n",
       "    .dataframe tbody tr th:only-of-type {\n",
       "        vertical-align: middle;\n",
       "    }\n",
       "\n",
       "    .dataframe tbody tr th {\n",
       "        vertical-align: top;\n",
       "    }\n",
       "\n",
       "    .dataframe thead th {\n",
       "        text-align: right;\n",
       "    }\n",
       "</style>\n",
       "<table border=\"1\" class=\"dataframe\">\n",
       "  <thead>\n",
       "    <tr style=\"text-align: right;\">\n",
       "      <th></th>\n",
       "      <th>index</th>\n",
       "      <th>id</th>\n",
       "      <th>name</th>\n",
       "      <th>alias</th>\n",
       "      <th>iata</th>\n",
       "      <th>icao</th>\n",
       "      <th>callsign</th>\n",
       "      <th>country</th>\n",
       "      <th>active</th>\n",
       "    </tr>\n",
       "  </thead>\n",
       "  <tbody>\n",
       "    <tr>\n",
       "      <th>0</th>\n",
       "      <td>0</td>\n",
       "      <td>1</td>\n",
       "      <td>Private flight</td>\n",
       "      <td>\\N</td>\n",
       "      <td>-</td>\n",
       "      <td>None</td>\n",
       "      <td>None</td>\n",
       "      <td>None</td>\n",
       "      <td>Y</td>\n",
       "    </tr>\n",
       "    <tr>\n",
       "      <th>1</th>\n",
       "      <td>1</td>\n",
       "      <td>2</td>\n",
       "      <td>135 Airways</td>\n",
       "      <td>\\N</td>\n",
       "      <td>None</td>\n",
       "      <td>GNL</td>\n",
       "      <td>GENERAL</td>\n",
       "      <td>United States</td>\n",
       "      <td>N</td>\n",
       "    </tr>\n",
       "    <tr>\n",
       "      <th>2</th>\n",
       "      <td>2</td>\n",
       "      <td>3</td>\n",
       "      <td>1Time Airline</td>\n",
       "      <td>\\N</td>\n",
       "      <td>1T</td>\n",
       "      <td>RNX</td>\n",
       "      <td>NEXTIME</td>\n",
       "      <td>South Africa</td>\n",
       "      <td>Y</td>\n",
       "    </tr>\n",
       "    <tr>\n",
       "      <th>3</th>\n",
       "      <td>3</td>\n",
       "      <td>4</td>\n",
       "      <td>2 Sqn No 1 Elementary Flying Training School</td>\n",
       "      <td>\\N</td>\n",
       "      <td>None</td>\n",
       "      <td>WYT</td>\n",
       "      <td>None</td>\n",
       "      <td>United Kingdom</td>\n",
       "      <td>N</td>\n",
       "    </tr>\n",
       "    <tr>\n",
       "      <th>4</th>\n",
       "      <td>4</td>\n",
       "      <td>5</td>\n",
       "      <td>213 Flight Unit</td>\n",
       "      <td>\\N</td>\n",
       "      <td>None</td>\n",
       "      <td>TFU</td>\n",
       "      <td>None</td>\n",
       "      <td>Russia</td>\n",
       "      <td>N</td>\n",
       "    </tr>\n",
       "  </tbody>\n",
       "</table>\n",
       "</div>"
      ],
      "text/plain": [
       "   index id                                          name alias  iata  icao  \\\n",
       "0      0  1                                Private flight    \\N     -  None   \n",
       "1      1  2                                   135 Airways    \\N  None   GNL   \n",
       "2      2  3                                 1Time Airline    \\N    1T   RNX   \n",
       "3      3  4  2 Sqn No 1 Elementary Flying Training School    \\N  None   WYT   \n",
       "4      4  5                               213 Flight Unit    \\N  None   TFU   \n",
       "\n",
       "  callsign         country active  \n",
       "0     None            None      Y  \n",
       "1  GENERAL   United States      N  \n",
       "2  NEXTIME    South Africa      Y  \n",
       "3     None  United Kingdom      N  \n",
       "4     None          Russia      N  "
      ]
     },
     "execution_count": 29,
     "metadata": {},
     "output_type": "execute_result"
    }
   ],
   "source": [
    "df"
   ]
  },
  {
   "cell_type": "markdown",
   "metadata": {},
   "source": [
    "#### if we want to go the other way with it we can take our sorted new excel data set and send in to the database using \"to_sql\" = a method to take cleaned or altered data back to the database"
   ]
  },
  {
   "cell_type": "markdown",
   "metadata": {},
   "source": [
    "#### [link to the docs](https://pandas.pydata.org/pandas-docs/stable/reference/api/pandas.DataFrame.to_sql.html)"
   ]
  },
  {
   "cell_type": "code",
   "execution_count": 32,
   "metadata": {},
   "outputs": [],
   "source": [
    "newexceldf.sort_values(by=[\"animal_name\"]).to_sql(\"sortedanimals\", conn, if_exists='replace')"
   ]
  }
 ],
 "metadata": {
  "kernelspec": {
   "display_name": "Python 3",
   "language": "python",
   "name": "python3"
  },
  "language_info": {
   "codemirror_mode": {
    "name": "ipython",
    "version": 3
   },
   "file_extension": ".py",
   "mimetype": "text/x-python",
   "name": "python",
   "nbconvert_exporter": "python",
   "pygments_lexer": "ipython3",
   "version": "3.6.7"
  }
 },
 "nbformat": 4,
 "nbformat_minor": 2
}
